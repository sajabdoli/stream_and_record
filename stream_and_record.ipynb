{
 "cells": [
  {
   "cell_type": "code",
   "execution_count": 1,
   "metadata": {
    "scrolled": true
   },
   "outputs": [],
   "source": [
    "import pyaudio\n",
    "import os\n",
    "import struct\n",
    "import matplotlib.pyplot as plt\n",
    "import time\n",
    "import soundfile as sf\n",
    "import numpy as np\n",
    "from collections import deque\n",
    "\n",
    "\n",
    "CHANNELS = 1\n",
    "RATE = 16000\n",
    "CHUNK = 1024 \n",
    "THRESHOLD = -50    # THRESHOLD of the input audio for starting the recording in dB\n",
    "SILENCE_LIMIT = 2\n",
    "PREV_AUDIO = 0.5\n",
    "FORMAT = pyaudio.paFloat32"
   ]
  },
  {
   "cell_type": "code",
   "execution_count": 2,
   "metadata": {},
   "outputs": [],
   "source": [
    "def save_speech(data):\n",
    "    \"\"\" Saves mic data to temporary WAV file. Returns filename of saved \n",
    "        file \"\"\"\n",
    "    from scipy.io.wavfile import write\n",
    "    \n",
    "    filename = 'output_'+str(int(time.time()))\n",
    "    \n",
    "    write(filename + 'output.wav', RATE, data)\n",
    "    \n",
    "    return filename + 'output.wav'"
   ]
  },
  {
   "cell_type": "code",
   "execution_count": 3,
   "metadata": {},
   "outputs": [],
   "source": [
    "def db_np(x):\n",
    "    e = np.sqrt(np.divide(np.sum(np.square(x)),CHUNK))\n",
    "    dv_val = 20.0 * np.log10(e)\n",
    "    return dv_val"
   ]
  },
  {
   "cell_type": "code",
   "execution_count": 4,
   "metadata": {},
   "outputs": [],
   "source": [
    "def audio_int(num_samples=100):\n",
    "    \"\"\" Gets average audio intensity of your mic sound.\n",
    "    \"\"\"\n",
    "    print (\"Getting intensity values from mic.\")\n",
    "    p = pyaudio.PyAudio()\n",
    "\n",
    "    stream = p.open(format=FORMAT,\n",
    "                    channels=CHANNELS,\n",
    "                    rate=RATE,\n",
    "                    input=True,\n",
    "                    frames_per_buffer=CHUNK)\n",
    "    dv_val_tot = 0.\n",
    "    for i in range(num_samples):\n",
    "        cur_data = stream.read(CHUNK, exception_on_overflow = False)\n",
    "        cur_data = np.fromstring(cur_data, dtype=np.float32)\n",
    "        cur_data = np.clip(cur_data, -1, 1)\n",
    "        \n",
    "        \n",
    "        dv_val = db_np(cur_data)\n",
    "        if (dv_val != -np.inf):\n",
    "            dv_val_tot = dv_val_tot + dv_val\n",
    "\n",
    "    print (\" Finished \")\n",
    "    print (\" Average audio db is \", dv_val_tot/num_samples)\n",
    "    stream.close()\n",
    "    p.terminate()\n",
    "    return dv_val_tot/num_samples"
   ]
  },
  {
   "cell_type": "code",
   "execution_count": 5,
   "metadata": {},
   "outputs": [],
   "source": [
    "def listen_for_speech(threshold=THRESHOLD, num_phrases=-1):\n",
    "    \n",
    "    \"\"\"\n",
    "    Listens to Microphone and records the audio sample\n",
    "    \"\"\"\n",
    "\n",
    "    \n",
    "    p = pyaudio.PyAudio()\n",
    "    \n",
    "    stream = p.open(format=pyaudio.paFloat32,\n",
    "                channels=CHANNELS,\n",
    "                rate=RATE, \n",
    "                output = True,\n",
    "                input=True,\n",
    "                frames_per_buffer=CHUNK)\n",
    "    \n",
    "    print (\"* Listening mic. \")\n",
    "    audio2send = []\n",
    "    cur_data = ''  # current chunk  of audio data\n",
    "    \n",
    "    rel = int(RATE/CHUNK)  #16000/1024 = 15.625\n",
    "    slid_win = deque(maxlen=SILENCE_LIMIT * rel)\n",
    "    #Prepend audio from 0.5 seconds before noise was detected\n",
    "    prev_audio = deque(maxlen=int(PREV_AUDIO * rel)) \n",
    "    \n",
    "    started = False\n",
    "    n = num_phrases\n",
    "    response = []\n",
    "    \n",
    "    \n",
    "    while (num_phrases == -1 or n > 0):\n",
    "        \n",
    "        cur_data = stream.read(CHUNK, exception_on_overflow = False)\n",
    "        cur_data = np.fromstring(cur_data, dtype=np.float32)\n",
    "        cur_data = np.clip(cur_data, -1, 1) \n",
    "        \n",
    "        slid_win.append(db_np(cur_data))\n",
    "                \n",
    "        if(sum([x > THRESHOLD for x in slid_win]) > 0):\n",
    "            if(not started):\n",
    "                print (\"Starting record of phrase\")\n",
    "                started = True\n",
    "                \n",
    "            audio2send.append(cur_data)\n",
    "            \n",
    "        elif (started is True):\n",
    "            print (\"Finished\")\n",
    "            \n",
    "            # The limit was reached, finish capture and deliver.\n",
    "\n",
    "            final_audio = list(prev_audio) + audio2send\n",
    "  \n",
    "            #save the audio for approporiate process @@@@@\n",
    "            print (\"audio prepared and saved\")\n",
    "            final_audio = np.asarray(final_audio, dtype = np.float32)\n",
    "            final_audio = np.concatenate(final_audio)\n",
    "            print (save_speech(final_audio))\n",
    "            print (final_audio.shape)\n",
    "            plt.plot (final_audio)\n",
    "            plt.show()\n",
    "\n",
    "                \n",
    "            # Remove temp varialble\n",
    "                \n",
    "            del final_audio\n",
    "            \n",
    "            # Reset all\n",
    "            \n",
    "            started = False\n",
    "            slid_win = deque(maxlen=SILENCE_LIMIT * rel)\n",
    "            prev_audio = deque(maxlen=int(PREV_AUDIO * rel)) \n",
    "            audio2send = []\n",
    "            \n",
    "            n -= 1\n",
    "            print (\"Listening ...\")\n",
    "            \n",
    "        else:\n",
    "            \n",
    "            prev_audio.append(cur_data)\n",
    "            \n",
    "    print (\"* Done recording\")\n",
    "    stream.close()\n",
    "    p.terminate()\n",
    "    \n",
    "    return response\n",
    "            "
   ]
  },
  {
   "cell_type": "code",
   "execution_count": 6,
   "metadata": {},
   "outputs": [
    {
     "name": "stdout",
     "output_type": "stream",
     "text": [
      "Getting intensity values from mic.\n"
     ]
    },
    {
     "name": "stderr",
     "output_type": "stream",
     "text": [
      "/opt/anaconda3/envs/tensorflow/lib/python3.7/site-packages/ipykernel_launcher.py:17: DeprecationWarning: The binary mode of fromstring is deprecated, as it behaves surprisingly on unicode inputs. Use frombuffer instead\n"
     ]
    },
    {
     "name": "stdout",
     "output_type": "stream",
     "text": [
      " Finished \n",
      " Average audio db is  -84.39243405972223\n"
     ]
    },
    {
     "data": {
      "text/plain": [
       "-84.39243405972223"
      ]
     },
     "execution_count": 6,
     "metadata": {},
     "output_type": "execute_result"
    }
   ],
   "source": [
    "audio_int()"
   ]
  },
  {
   "cell_type": "code",
   "execution_count": null,
   "metadata": {},
   "outputs": [],
   "source": [
    "listen_for_speech()"
   ]
  }
 ],
 "metadata": {
  "kernelspec": {
   "display_name": "Python 3",
   "language": "python",
   "name": "python3"
  },
  "language_info": {
   "codemirror_mode": {
    "name": "ipython",
    "version": 3
   },
   "file_extension": ".py",
   "mimetype": "text/x-python",
   "name": "python",
   "nbconvert_exporter": "python",
   "pygments_lexer": "ipython3",
   "version": "3.7.7"
  }
 },
 "nbformat": 4,
 "nbformat_minor": 4
}
